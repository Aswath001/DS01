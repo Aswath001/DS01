{
 "cells": [
  {
   "cell_type": "markdown",
   "id": "7ae520fe-6592-4d1e-8d9d-0434482ec786",
   "metadata": {},
   "source": [
    "# Data Science Tools and Ecosystem"
   ]
  },
  {
   "cell_type": "markdown",
   "id": "456e995f-7ed9-4007-9e96-a1dbe6a9989a",
   "metadata": {},
   "source": [
    "In this notebook, Data Science Tools and Ecosystem are summarized"
   ]
  },
  {
   "cell_type": "markdown",
   "id": "9d1736bc-1ff0-44e2-8fbb-8863a534069b",
   "metadata": {},
   "source": [
    "***Objectives:***\n",
    "List popular languages for Data Science\n",
    "-Python\n",
    "-R\n",
    "-SQL\n",
    "-Julia\n",
    "-Scala"
   ]
  },
  {
   "cell_type": "markdown",
   "id": "a0389970-1ac0-408b-bb46-d5f824f5a522",
   "metadata": {},
   "source": [
    "## Author\n",
    "Aswaththaman G"
   ]
  },
  {
   "cell_type": "markdown",
   "id": "b7207cc1-5690-4ae4-bd0d-d5e050ce4f36",
   "metadata": {},
   "source": [
    "Some of the popular languages that Data Scientists use are:\n",
    "1.Python\n",
    "2.R\n",
    "3.SQL\n",
    "4.Julia\n",
    "5.Scala"
   ]
  },
  {
   "cell_type": "markdown",
   "id": "d2a9ec8d-1f1e-4c58-adb6-533e792a2ab1",
   "metadata": {},
   "source": [
    "Some of the commonly used libraries used by Data Scientists include:\n",
    "1.Pandas\n",
    "2.Numpy\n",
    "3.Scipy\n",
    "4.Scikit-learn\n",
    "5.TensorFlow"
   ]
  },
  {
   "cell_type": "markdown",
   "id": "93e806d3-d4e6-42f8-9a4a-8fb616130045",
   "metadata": {},
   "source": [
    "# Data Science Tools"
   ]
  },
  {
   "cell_type": "markdown",
   "id": "b711e1f4-e5f0-4e4a-b0db-1de6b5143d04",
   "metadata": {},
   "source": [
    "Jupyter Notebooks"
   ]
  },
  {
   "cell_type": "markdown",
   "id": "3a56432f-3ceb-4465-be2c-bc39d21ebf54",
   "metadata": {},
   "source": [
    "Zeppelin Notebooks"
   ]
  },
  {
   "cell_type": "markdown",
   "id": "ea0e2101-3c9d-41f9-a722-b0c784626530",
   "metadata": {},
   "source": [
    "R Studio's"
   ]
  },
  {
   "cell_type": "markdown",
   "id": "e3dadbc1-2b97-49e4-b6dd-f7a9f80040b3",
   "metadata": {},
   "source": [
    "### Below are a few examples of evaluating arithmetic expressions in Python"
   ]
  },
  {
   "cell_type": "code",
   "execution_count": 1,
   "id": "d83df022-0154-4a78-bf1f-614e52f73576",
   "metadata": {},
   "outputs": [
    {
     "data": {
      "text/plain": [
       "17"
      ]
     },
     "execution_count": 1,
     "metadata": {},
     "output_type": "execute_result"
    }
   ],
   "source": [
    "(3*4)+5\n",
    "# This a simple arithmetic expression to mutiply then add integers"
   ]
  },
  {
   "cell_type": "code",
   "execution_count": 2,
   "id": "900b548d-082a-4373-823f-63d7b8581ea3",
   "metadata": {},
   "outputs": [
    {
     "data": {
      "text/plain": [
       "3.3333333333333335"
      ]
     },
     "execution_count": 2,
     "metadata": {},
     "output_type": "execute_result"
    }
   ],
   "source": [
    "200/60\n",
    "# This will convert 200 minutes to hours by diving by 60"
   ]
  },
  {
   "cell_type": "code",
   "execution_count": null,
   "id": "1e8e09c1-bcb9-44f6-9fed-271220050590",
   "metadata": {},
   "outputs": [],
   "source": []
  }
 ],
 "metadata": {
  "kernelspec": {
   "display_name": "Python",
   "language": "python",
   "name": "conda-env-python-py"
  },
  "language_info": {
   "codemirror_mode": {
    "name": "ipython",
    "version": 3
   },
   "file_extension": ".py",
   "mimetype": "text/x-python",
   "name": "python",
   "nbconvert_exporter": "python",
   "pygments_lexer": "ipython3",
   "version": "3.7.12"
  }
 },
 "nbformat": 4,
 "nbformat_minor": 5
}
